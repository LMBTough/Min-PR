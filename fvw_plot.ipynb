{
 "cells": [
  {
   "cell_type": "code",
   "execution_count": 24,
   "metadata": {},
   "outputs": [],
   "source": [
    "from utils import setup_seed, AverageMeter\n",
    "from tqdm import tqdm\n",
    "from foolbox import PyTorchModel\n",
    "from foolbox.attacks import LinfPGD\n",
    "from fvw_method import exp,caculate_combine,caculate_total,get_result\n",
    "from datasets import load_cifar10\n",
    "from models.resnet import resnet50\n",
    "import torch.nn as nn\n",
    "import matplotlib.pyplot as plt\n",
    "import torch\n",
    "import torch.nn.functional as F\n",
    "device = torch.device(\"cuda:0\" if torch.cuda.is_available() else \"cpu\")\n",
    "import numpy as np\n",
    "model = resnet50(\"cifar10\")\n",
    "setup_seed(3407)\n",
    "device = torch.device(\"cuda\" if torch.cuda.is_available() else \"cpu\")\n"
   ]
  },
  {
   "cell_type": "code",
   "execution_count": 25,
   "metadata": {},
   "outputs": [
    {
     "name": "stdout",
     "output_type": "stream",
     "text": [
      "Files already downloaded and verified\n",
      "Files already downloaded and verified\n"
     ]
    }
   ],
   "source": [
    "train_dataloader, test_dataloader, data_min, data_max = load_cifar10()\n"
   ]
  },
  {
   "cell_type": "code",
   "execution_count": 26,
   "metadata": {},
   "outputs": [],
   "source": [
    "class FGSM:\n",
    "    def __init__(self, epsilon, data_min, data_max):\n",
    "        self.epsilon = epsilon\n",
    "        self.criterion = nn.CrossEntropyLoss()\n",
    "        self.data_min = data_min\n",
    "        self.data_max = data_max\n",
    "\n",
    "    def __call__(self, model, data, target, num_steps=50, alpha=0.001):\n",
    "        dt = data.clone().detach().requires_grad_(True)\n",
    "        for _ in range(num_steps):\n",
    "            output = model(dt)\n",
    "            if output.argmax() != target:\n",
    "                break\n",
    "            loss = self.criterion(output, target)\n",
    "            loss.backward()\n",
    "            dt.data = dt.data + alpha * dt.grad.data.sign()\n",
    "            dt.data = torch.clamp(dt.data, self.data_min, self.data_max)\n",
    "            dt.grad.data.zero_()\n",
    "        return dt, output.argmax() != target\n",
    "    "
   ]
  },
  {
   "cell_type": "code",
   "execution_count": 27,
   "metadata": {},
   "outputs": [],
   "source": [
    "fgsm = FGSM(epsilon=0.001, data_min=data_min, data_max=data_max)"
   ]
  },
  {
   "cell_type": "code",
   "execution_count": 28,
   "metadata": {},
   "outputs": [],
   "source": [
    "def plot_picture(model,data, dt, delta_x):\n",
    "    fig, axes = plt.subplots(1, 3)\n",
    "    axes[0].bar(range(10), F.softmax(\n",
    "        model(data), dim=1).squeeze().detach().cpu().numpy())\n",
    "    axes[0].set_title(\"Original\")\n",
    "    axes[0].set_xticks(range(10))\n",
    "    axes[1].bar(range(10), F.softmax(\n",
    "        model(dt), dim=1).squeeze().detach().cpu().numpy())\n",
    "    axes[1].set_title(\"Adversarial\")\n",
    "    axes[1].set_xticks(range(10))\n",
    "    axes[2].bar(range(10), F.softmax(model(data+delta_x),\n",
    "                dim=1).squeeze().detach().cpu().numpy())\n",
    "    axes[2].set_title(\"modified\")\n",
    "    axes[2].set_xticks(range(10))\n",
    "    plt.show()\n"
   ]
  },
  {
   "cell_type": "code",
   "execution_count": 29,
   "metadata": {},
   "outputs": [],
   "source": [
    "def get_result(model, x, pos, combine, combine_flatten, delta):\n",
    "    threshold = np.sort(combine_flatten)[pos]\n",
    "    delta_ = delta.clone()\n",
    "    delta_[combine < threshold] = 0\n",
    "    result = model(x+delta_).argmax(-1)\n",
    "    return result, torch.norm(delta_).item(), delta_"
   ]
  },
  {
   "cell_type": "code",
   "execution_count": 35,
   "metadata": {},
   "outputs": [
    {
     "data": {
      "image/png": "[encoded data removed]",
      "text/plain": [
       "<Figure size 640x480 with 3 Axes>"
      ]
     },
     "metadata": {},
     "output_type": "display_data"
    },
    {
     "name": "stdout",
     "output_type": "stream",
     "text": [
      "tensor(0.0545, device='cuda:0', grad_fn=<DivBackward0>)\n"
     ]
    }
   ],
   "source": [
    "for x, label in test_dataloader:\n",
    "    x, label = x.to(device), label.to(device)\n",
    "    pred = model(x)\n",
    "    correct = pred.argmax(-1) == label\n",
    "    x = x[correct]\n",
    "    label = label[correct]\n",
    "    for i in range(10):\n",
    "        adv_data, success = fgsm(model,x[i:i+1],target=label[i:i+1])\n",
    "        if not success:\n",
    "            continue\n",
    "        delta_x = adv_data - x[i:i+1]\n",
    "        y = model(adv_data)\n",
    "        # print(y.argmax(-1))\n",
    "        # total = caculate_total(\n",
    "        #     model, x[i:i+1],label[i:i+1], delta_x, y.unsqueeze(0), steps=2, op=\"minus\", alpha=0.1, num_classes=y.shape[-1])\n",
    "        # combine, combine_flatten = caculate_combine(\n",
    "        #     total, delta_x, use_total=True, use_delta=True)\n",
    "        # threshold = np.sort(combine_flatten)[int(0.2*len(combine_flatten))]\n",
    "        # delta_ = delta_x.clone()\n",
    "        # delta_[combine < threshold] = 0\n",
    "        # result = model(x[i:i+1]+delta_).argmax(-1)\n",
    "        # plot_picture(model,x[i:i+1],(x[i:i+1]+delta_x),delta_)\n",
    "        # print(result)\n",
    "        # break\n",
    "        norm, delta = exp(x=x[i], delta_x=delta_x.squeeze(), y=y, model=model,\n",
    "                       add_steps=2, minus_steps=2, alpha=0.001, method=\"total*delta\")\n",
    "        plot_picture(model,x[i:i+1],(x[i:i+1]+delta_x),delta)\n",
    "        b = norm - torch.norm(delta_x)\n",
    "        a = norm\n",
    "        val = b / (-(a-b))\n",
    "        print(val)\n",
    "        break\n",
    "    break"
   ]
  },
  {
   "cell_type": "code",
   "execution_count": null,
   "metadata": {},
   "outputs": [],
   "source": []
  }
 ],
 "metadata": {
  "kernelspec": {
   "display_name": "Python 3",
   "language": "python",
   "name": "python3"
  },
  "language_info": {
   "codemirror_mode": {
    "name": "ipython",
    "version": 3
   },
   "file_extension": ".py",
   "mimetype": "text/x-python",
   "name": "python",
   "nbconvert_exporter": "python",
   "pygments_lexer": "ipython3",
   "version": "3.10.8"
  },
  "orig_nbformat": 4
 },
 "nbformat": 4,
 "nbformat_minor": 2
}
