{
 "cells": [
  {
   "cell_type": "code",
   "execution_count": 31,
   "metadata": {},
   "outputs": [
    {
     "ename": "RuntimeError",
     "evalue": "matrix or a vector expected",
     "output_type": "error",
     "traceback": [
      "\u001b[1;31m---------------------------------------------------------------------------\u001b[0m",
      "\u001b[1;31mRuntimeError\u001b[0m                              Traceback (most recent call last)",
      "\u001b[1;32md:\\Documents\\GitHub\\RPA\\hessian.ipynb Cell 1\u001b[0m in \u001b[0;36m1\n\u001b[0;32m      <a href='vscode-notebook-cell:/d%3A/Documents/GitHub/RPA/hessian.ipynb#W0sZmlsZQ%3D%3D?line=8'>9</a>\u001b[0m \u001b[39m# 计算海森矩阵对角线元素\u001b[39;00m\n\u001b[0;32m     <a href='vscode-notebook-cell:/d%3A/Documents/GitHub/RPA/hessian.ipynb#W0sZmlsZQ%3D%3D?line=9'>10</a>\u001b[0m hessian_func \u001b[39m=\u001b[39m hessian(pow_reducer, inputs)\n\u001b[1;32m---> <a href='vscode-notebook-cell:/d%3A/Documents/GitHub/RPA/hessian.ipynb#W0sZmlsZQ%3D%3D?line=10'>11</a>\u001b[0m diagonal \u001b[39m=\u001b[39m torch\u001b[39m.\u001b[39;49mdiag(hessian_func)\n\u001b[0;32m     <a href='vscode-notebook-cell:/d%3A/Documents/GitHub/RPA/hessian.ipynb#W0sZmlsZQ%3D%3D?line=12'>13</a>\u001b[0m \u001b[39mprint\u001b[39m(diagonal)\n",
      "\u001b[1;31mRuntimeError\u001b[0m: matrix or a vector expected"
     ]
    }
   ],
   "source": [
    "import torch\n",
    "from torch.autograd.functional import hessian\n",
    "def pow_reducer(x):\n",
    "  return x.pow(3).sum()\n",
    "inputs = torch.rand(2, 2)\n",
    "hessian(pow_reducer, inputs).shape"
   ]
  },
  {
   "cell_type": "code",
   "execution_count": null,
   "metadata": {},
   "outputs": [],
   "source": []
  }
 ],
 "metadata": {
  "kernelspec": {
   "display_name": "Python 3",
   "language": "python",
   "name": "python3"
  },
  "language_info": {
   "codemirror_mode": {
    "name": "ipython",
    "version": 3
   },
   "file_extension": ".py",
   "mimetype": "text/x-python",
   "name": "python",
   "nbconvert_exporter": "python",
   "pygments_lexer": "ipython3",
   "version": "3.10.8"
  },
  "orig_nbformat": 4
 },
 "nbformat": 4,
 "nbformat_minor": 2
}
